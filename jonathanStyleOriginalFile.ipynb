{
 "cells": [
  {
   "cell_type": "code",
   "execution_count": 10,
   "metadata": {},
   "outputs": [],
   "source": [
    "import pandas as pd\n",
    "import math\n",
    "df = pd.read_csv('H:\\my university files\\internship now\\github\\jonathan output file\\imageHasOnLeftRightCenterTopBottom.csv')\n"
   ]
  },
  {
   "cell_type": "code",
   "execution_count": 11,
   "metadata": {},
   "outputs": [],
   "source": [
    "confidence_score=[]\n",
    "diagonal_object_values=[]\n",
    "X_Image_Dimentions_values=[]\n",
    "Y_Image_Dimentions_values=[]\n",
    "x1_values=[]\n",
    "x2_values=[]\n",
    "y1_values=[]\n",
    "y2_values=[] \n",
    "x_values = [] \n",
    "object_name_list=[]\n",
    "Image_name_list=[]\n",
    "y_values=[]\n",
    "\n",
    "\n",
    "for _,row in df.iterrows():\n",
    "\n",
    "    x_values.append(row['X-centre'])\n",
    "    object_name_list.append(row['object name'])\n",
    "    Image_name_list.append(row['Image name'])\n",
    "    y_values.append(row['Y-centre'])\n",
    "    diagonal_object_values.append(row['diagonal object'])\n",
    "    x1_values.append(row['X1'])\n",
    "    x2_values.append(row['X2'])\n",
    "    y1_values.append(row['Y1'])\n",
    "    y2_values.append(row['Y2'])\n",
    "    X_Image_Dimentions_values.append(row['X-Image Dimentions'])\n",
    "    Y_Image_Dimentions_values.append(row['Y-Image Dimentions'])\n",
    "    confidence_score.append(row['confidence'])\n",
    "                                         "
   ]
  },
  {
   "cell_type": "code",
   "execution_count": 20,
   "metadata": {},
   "outputs": [],
   "source": [
    "relations=[\"is close to\",\"is far from\",\"is greater than\",\"is smaller than\",\"overlaps\",\"doesn't overlap\",\"is in the right of\",\n",
    "           \"is in the left of\",\"is in the bottom of\",\"is in the top of\",\"in between\"]\n",
    "predicate = []\n",
    "object_1 = []\n",
    "object_2_far=[]\n",
    "object_2_close=[]\n",
    "imageName = []\n",
    "for i in range(len(y_values)):\n",
    "    for j in range(i + 1, len(y_values)):\n",
    "        if ((diagonal_object_values[i]+diagonal_object_values[j])/2)>(math.sqrt((x_values[i]-x_values[j])**2)+(y_values[i]-y_values[j])**2) and Image_name_list[i]==Image_name_list[j]:\n",
    "            object_1.append(object_name_list[i])\n",
    "            imageName.append(Image_name_list[i])\n",
    "            object_2_far.append(object_name_list[j])\n",
    "            object_2_close.append(\"na\")\n",
    "            predicate.append(relations[1])\n",
    "            object_1.append(object_name_list[j]) \n",
    "            imageName.append(Image_name_list[j])\n",
    "            predicate.append(relations[1])\n",
    "            object_2_far.append(object_name_list[i])\n",
    "            object_2_close.append(\"na\")\n",
    "        elif ((diagonal_object_values[i]+diagonal_object_values[j])/2)<(math.sqrt((x_values[i]-x_values[j])**2)+(y_values[i]-y_values[j])**2) and Image_name_list[i]==Image_name_list[j]:\n",
    "            object_1.append(object_name_list[i]) \n",
    "            imageName.append(Image_name_list[i])\n",
    "            predicate.append(relations[0])\n",
    "            object_2_close.append(object_name_list[j])\n",
    "            object_2_far.append(\"na\")\n",
    "            object_1.append(object_name_list[j]) \n",
    "            predicate.append(relations[0])\n",
    "            imageName.append(Image_name_list[j])\n",
    "            object_2_close.append(object_name_list[i])\n",
    "            object_2_far.append(\"na\")\n",
    "            \n",
    "# object_2_close.append(\"na\")\n",
    "# object_2_far.append(\"na\")"
   ]
  },
  {
   "cell_type": "code",
   "execution_count": 21,
   "metadata": {},
   "outputs": [],
   "source": [
    "af = pd.DataFrame(data={ \"image_Name\":imageName, \"object_1\": object_1, \"is close to\":object_2_close, \"is far from\":object_2_far})\n",
    "af.to_csv(\"./is close to.csv\", sep=',',index=False)"
   ]
  },
  {
   "cell_type": "code",
   "execution_count": null,
   "metadata": {},
   "outputs": [],
   "source": []
  }
 ],
 "metadata": {
  "kernelspec": {
   "display_name": "Python 3",
   "language": "python",
   "name": "python3"
  },
  "language_info": {
   "codemirror_mode": {
    "name": "ipython",
    "version": 3
   },
   "file_extension": ".py",
   "mimetype": "text/x-python",
   "name": "python",
   "nbconvert_exporter": "python",
   "pygments_lexer": "ipython3",
   "version": "3.7.6"
  }
 },
 "nbformat": 4,
 "nbformat_minor": 4
}
